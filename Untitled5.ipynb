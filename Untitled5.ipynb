{
  "nbformat": 4,
  "nbformat_minor": 0,
  "metadata": {
    "colab": {
      "provenance": [],
      "toc_visible": true,
      "authorship_tag": "ABX9TyOHOkgJJQnVk8LulPzpe7M5",
      "include_colab_link": true
    },
    "kernelspec": {
      "name": "python3",
      "display_name": "Python 3"
    },
    "language_info": {
      "name": "python"
    }
  },
  "cells": [
    {
      "cell_type": "markdown",
      "metadata": {
        "id": "view-in-github",
        "colab_type": "text"
      },
      "source": [
        "<a href=\"https://colab.research.google.com/github/strisys/CKAD-exercises/blob/main/Untitled5.ipynb\" target=\"_parent\"><img src=\"https://colab.research.google.com/assets/colab-badge.svg\" alt=\"Open In Colab\"/></a>"
      ]
    },
    {
      "cell_type": "markdown",
      "source": [
        "# Master Math by Coding in Python ([course](https://www.udemy.com/course/math-with-python/learn/lecture))"
      ],
      "metadata": {
        "id": "Y_fVXTpFX_ry"
      }
    },
    {
      "cell_type": "markdown",
      "source": [
        "## Section 2: Arithmetic"
      ],
      "metadata": {
        "id": "W6dj_K3WX0tr"
      }
    },
    {
      "cell_type": "markdown",
      "source": [
        "### Chapter 10 - Printing Equations in Jupyter Notebook"
      ],
      "metadata": {
        "id": "tCNVgPmsXYPr"
      }
    },
    {
      "cell_type": "code",
      "source": [
        "from IPython.display import display, Math\n",
        "\n",
        "x = 4; y = 5; answer = x + y\n",
        "display(Math('%g + %g = %g' %(x,y,x+y)))\n",
        "display(Math(f'{x}+{y}={answer}'))\n",
        "\n",
        "# LaTeX support\n",
        "display(Math('\\\\frac{4}{5}=8'))\n",
        "\n",
        "x = 3.4; y = 17; answer = x * y\n",
        "display(Math(f'{x} \\\\times {y} = {answer}'))"
      ],
      "metadata": {
        "id": "x7CVfJQ9XXwv"
      },
      "execution_count": null,
      "outputs": []
    },
    {
      "cell_type": "markdown",
      "source": [
        "#### Exercise"
      ],
      "metadata": {
        "id": "pU7zNzzWXiiE"
      }
    },
    {
      "cell_type": "code",
      "source": [
        "x = 7; y = 2; z = 5\n",
        "answer = (3 * x) * (4 + y)\n",
        "\n",
        "display(Math(f'3x(4 + y) = {answer}'))\n",
        "display(Math(f'3 \\\\times {x} (4 + {y}) = {answer}'))\n",
        "\n",
        "display(Math(f'\\\\frac{x}{y} = {answer}'))"
      ],
      "metadata": {
        "colab": {
          "base_uri": "https://localhost:8080/",
          "height": 93
        },
        "id": "JV_hU0B9XlfR",
        "outputId": "5f8f799c-9499-4a35-b043-68bfef03bee7"
      },
      "execution_count": 28,
      "outputs": [
        {
          "output_type": "display_data",
          "data": {
            "text/plain": [
              "<IPython.core.display.Math object>"
            ],
            "text/latex": "$\\displaystyle 3x(4 + y) = 126$"
          },
          "metadata": {}
        },
        {
          "output_type": "display_data",
          "data": {
            "text/plain": [
              "<IPython.core.display.Math object>"
            ],
            "text/latex": "$\\displaystyle 3 \\times 7 (4 + 2) = 126$"
          },
          "metadata": {}
        },
        {
          "output_type": "display_data",
          "data": {
            "text/plain": [
              "<IPython.core.display.Math object>"
            ],
            "text/latex": "$\\displaystyle \\frac72 = 126$"
          },
          "metadata": {}
        }
      ]
    },
    {
      "cell_type": "markdown",
      "source": [
        "## Conclusion\n",
        "\n",
        "Though we can write LaTeX documentation [in Colab](https://colab.research.google.com/github/bebi103a/bebi103a.github.io/blob/master/lessons/00/intro_to_latex.ipynb) as follows there is a limitation.\n",
        "\n",
        "$$\n",
        "3{x} (4 + {y}) = {42} \\\\\n",
        "\\frac{x}{y} = -3.5\n",
        "$$\n",
        "\n",
        "The limitation is it's not interactive.  Notice in the exercises above we can to run the equation *and also have LaTeX output* using a combination of Math and display from IPython.display.  "
      ],
      "metadata": {
        "id": "TqzLvEQaYfe-"
      }
    },
    {
      "cell_type": "markdown",
      "source": [],
      "metadata": {
        "id": "jKCz29_pcVaf"
      }
    }
  ]
}