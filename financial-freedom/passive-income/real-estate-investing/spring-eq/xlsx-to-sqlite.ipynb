{
  "nbformat": 4,
  "nbformat_minor": 0,
  "metadata": {
    "colab": {
      "provenance": [],
      "authorship_tag": "ABX9TyOGOu/xHBnKZ/LpI7h24MWx",
      "include_colab_link": true
    },
    "kernelspec": {
      "name": "python3",
      "display_name": "Python 3"
    },
    "language_info": {
      "name": "python"
    }
  },
  "cells": [
    {
      "cell_type": "markdown",
      "metadata": {
        "id": "view-in-github",
        "colab_type": "text"
      },
      "source": [
        "<a href=\"https://colab.research.google.com/github/strisys/CKAD-exercises/blob/main/financial-freedom/passive-income/real-estate-investing/spring-eq/xlsx-to-sqlite.ipynb\" target=\"_parent\"><img src=\"https://colab.research.google.com/assets/colab-badge.svg\" alt=\"Open In Colab\"/></a>"
      ]
    },
    {
      "cell_type": "code",
      "execution_count": 3,
      "metadata": {
        "colab": {
          "base_uri": "https://localhost:8080/"
        },
        "id": "J5xO9K7Zy-J7",
        "outputId": "c141c1a5-1cdc-479f-fe11-2afa20d556a5"
      },
      "outputs": [
        {
          "output_type": "stream",
          "name": "stdout",
          "text": [
            "/content/data\n"
          ]
        }
      ],
      "source": [
        "import os\n",
        "import pandas as pd\n",
        "import sqlite3\n",
        "\n",
        "# Define the directory containing the Excel files\n",
        "directory = os.getcwd() + '/data'\n",
        "print(directory)\n",
        "\n",
        "# Establish a connection to the SQLite database (or create it if it doesn't exist)\n",
        "conn = sqlite3.connect('springeq-2.db')\n",
        "\n",
        "# Iterate over all files in the directory\n",
        "for filename in os.listdir(directory):\n",
        "    if filename.endswith('.xlsx') or filename.endswith('.xls'):\n",
        "        # Construct the full file path\n",
        "        file_path = os.path.join(directory, filename)\n",
        "\n",
        "        # Read the first sheet of the Excel file into a DataFrame\n",
        "        df = pd.read_excel(file_path, sheet_name=0)\n",
        "\n",
        "        # Extract the base name of the file (without extension) to use as table name\n",
        "        table_name = os.path.splitext(filename)[0]\n",
        "\n",
        "        # Persist the DataFrame to the SQLite database table\n",
        "        df.to_sql(table_name, conn, if_exists='replace', index=False)\n",
        "\n",
        "# Close the database connection\n",
        "conn.close()"
      ]
    }
  ]
}